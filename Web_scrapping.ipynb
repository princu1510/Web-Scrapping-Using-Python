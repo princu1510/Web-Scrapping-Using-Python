{
  "nbformat": 4,
  "nbformat_minor": 0,
  "metadata": {
    "colab": {
      "name": "Web_scrapping.ipynb",
      "provenance": []
    },
    "kernelspec": {
      "name": "python3",
      "display_name": "Python 3"
    },
    "language_info": {
      "name": "python"
    }
  },
  "cells": [
    {
      "cell_type": "code",
      "metadata": {
        "id": "XDOczIBZzFrL"
      },
      "source": [
        "import requests\n",
        "from bs4 import BeautifulSoup\n",
        "import pandas as pd"
      ],
      "execution_count": 1,
      "outputs": []
    },
    {
      "cell_type": "code",
      "metadata": {
        "id": "NMG6HljuzHeK"
      },
      "source": [
        "Text = []"
      ],
      "execution_count": 2,
      "outputs": []
    },
    {
      "cell_type": "code",
      "metadata": {
        "id": "i6SIND8TzJqT"
      },
      "source": [
        "res = requests.get('https://en.wikipedia.org/wiki/Apple_Inc.')\n",
        "soup = BeautifulSoup(res.text, 'html.parser')"
      ],
      "execution_count": 3,
      "outputs": []
    },
    {
      "cell_type": "code",
      "metadata": {
        "colab": {
          "base_uri": "https://localhost:8080/"
        },
        "id": "c8SscIMezLWg",
        "outputId": "321b1f3a-fb14-4aeb-e033-5f67d10d4581"
      },
      "source": [
        "soup.select('mw-headline')"
      ],
      "execution_count": 4,
      "outputs": [
        {
          "output_type": "execute_result",
          "data": {
            "text/plain": [
              "[]"
            ]
          },
          "metadata": {
            "tags": []
          },
          "execution_count": 4
        }
      ]
    },
    {
      "cell_type": "code",
      "metadata": {
        "colab": {
          "base_uri": "https://localhost:8080/"
        },
        "id": "qHSwmUQzzM7G",
        "outputId": "25674d69-f02f-45cc-c1f1-ab2dc5fc5ae6"
      },
      "source": [
        "for i in soup.select('.mw-headline'):\n",
        "  print(i.text)\n",
        "Text.append(i.text)"
      ],
      "execution_count": 5,
      "outputs": [
        {
          "output_type": "stream",
          "text": [
            "History\n",
            "1976–1984: Founding and incorporation\n",
            "1984–1991: Success with Macintosh\n",
            "1991–1997: Decline and restructuring\n",
            "1997–2007: Return to profitability\n",
            "Intel transition and financial stability\n",
            "2007–2011: Success with mobile devices\n",
            "2011–present: Post–Jobs era, Tim Cook's leadership\n",
            "Apple silicon transition\n",
            "Products\n",
            "Macintosh\n",
            "iPod\n",
            "iPhone\n",
            "iPad\n",
            "Apple Watch\n",
            "Apple TV\n",
            "HomePod\n",
            "Software and services\n",
            "Electric vehicles\n",
            "Corporate identity\n",
            "Logo\n",
            "Advertising\n",
            "Brand semiotics\n",
            "Brand loyalty\n",
            "Home page\n",
            "Headquarters\n",
            "Stores\n",
            "Corporate affairs\n",
            "Corporate culture\n",
            "Lack of innovation\n",
            "Manufacturing and assembling\n",
            "Labor practices\n",
            "Environmental practices and initiatives\n",
            "Apple Energy\n",
            "Energy and resources\n",
            "Toxins\n",
            "Green bonds\n",
            "Finance\n",
            "Tax practices\n",
            "Board of directors\n",
            "Executive management\n",
            "List of chief executives\n",
            "List of chairmen\n",
            "Litigation\n",
            "Privacy stance\n",
            "Charitable causes\n",
            "Criticism and controversies\n",
            "See also\n",
            "References\n",
            "Bibliography\n",
            "Further reading\n",
            "External links\n"
          ],
          "name": "stdout"
        }
      ]
    },
    {
      "cell_type": "code",
      "metadata": {
        "id": "V6z6WtdgzOtu"
      },
      "source": [
        "df = pd.DataFrame({'Text':Text}) \n",
        "df.to_csv('Apple.csv', index=False, encoding='utf-8')"
      ],
      "execution_count": 6,
      "outputs": []
    }
  ]
}